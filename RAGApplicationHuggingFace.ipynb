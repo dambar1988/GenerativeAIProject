{
  "nbformat": 4,
  "nbformat_minor": 0,
  "metadata": {
    "colab": {
      "provenance": []
    },
    "kernelspec": {
      "name": "python3",
      "display_name": "Python 3"
    },
    "language_info": {
      "name": "python"
    }
  },
  "cells": [
    {
      "cell_type": "markdown",
      "source": [
        "RAG Application using Hugging Face repo"
      ],
      "metadata": {
        "id": "hY3lfcJUmnge"
      }
    },
    {
      "cell_type": "markdown",
      "source": [],
      "metadata": {
        "id": "aL2BSRSMnwFX"
      }
    },
    {
      "cell_type": "markdown",
      "source": [
        "Simple RAG in Google Colab (No API Key, 100% Free)\n",
        "1. Install Required Libraries\n",
        "\n",
        "        !pip install langchain faiss-cpu sentence-transformers transformers\n",
        "\n",
        "        !pip install -U langchain-community\n",
        "\n",
        "        !pip install faiss-cpu\n",
        "\n",
        "        !pip install pypdf"
      ],
      "metadata": {
        "id": "4jlcfJEyoE21"
      }
    },
    {
      "cell_type": "code",
      "source": [
        "from google.colab import files\n",
        "\n",
        "uploaded = files.upload()\n"
      ],
      "metadata": {
        "colab": {
          "base_uri": "https://localhost:8080/",
          "height": 73
        },
        "id": "h6yBW-fAqDuP",
        "outputId": "ac0a1885-4b64-457f-f2c1-625ead5a5b6d"
      },
      "execution_count": 1,
      "outputs": [
        {
          "output_type": "display_data",
          "data": {
            "text/plain": [
              "<IPython.core.display.HTML object>"
            ],
            "text/html": [
              "\n",
              "     <input type=\"file\" id=\"files-c9707bbe-78f6-41b7-9fc4-d513c22771f7\" name=\"files[]\" multiple disabled\n",
              "        style=\"border:none\" />\n",
              "     <output id=\"result-c9707bbe-78f6-41b7-9fc4-d513c22771f7\">\n",
              "      Upload widget is only available when the cell has been executed in the\n",
              "      current browser session. Please rerun this cell to enable.\n",
              "      </output>\n",
              "      <script>// Copyright 2017 Google LLC\n",
              "//\n",
              "// Licensed under the Apache License, Version 2.0 (the \"License\");\n",
              "// you may not use this file except in compliance with the License.\n",
              "// You may obtain a copy of the License at\n",
              "//\n",
              "//      http://www.apache.org/licenses/LICENSE-2.0\n",
              "//\n",
              "// Unless required by applicable law or agreed to in writing, software\n",
              "// distributed under the License is distributed on an \"AS IS\" BASIS,\n",
              "// WITHOUT WARRANTIES OR CONDITIONS OF ANY KIND, either express or implied.\n",
              "// See the License for the specific language governing permissions and\n",
              "// limitations under the License.\n",
              "\n",
              "/**\n",
              " * @fileoverview Helpers for google.colab Python module.\n",
              " */\n",
              "(function(scope) {\n",
              "function span(text, styleAttributes = {}) {\n",
              "  const element = document.createElement('span');\n",
              "  element.textContent = text;\n",
              "  for (const key of Object.keys(styleAttributes)) {\n",
              "    element.style[key] = styleAttributes[key];\n",
              "  }\n",
              "  return element;\n",
              "}\n",
              "\n",
              "// Max number of bytes which will be uploaded at a time.\n",
              "const MAX_PAYLOAD_SIZE = 100 * 1024;\n",
              "\n",
              "function _uploadFiles(inputId, outputId) {\n",
              "  const steps = uploadFilesStep(inputId, outputId);\n",
              "  const outputElement = document.getElementById(outputId);\n",
              "  // Cache steps on the outputElement to make it available for the next call\n",
              "  // to uploadFilesContinue from Python.\n",
              "  outputElement.steps = steps;\n",
              "\n",
              "  return _uploadFilesContinue(outputId);\n",
              "}\n",
              "\n",
              "// This is roughly an async generator (not supported in the browser yet),\n",
              "// where there are multiple asynchronous steps and the Python side is going\n",
              "// to poll for completion of each step.\n",
              "// This uses a Promise to block the python side on completion of each step,\n",
              "// then passes the result of the previous step as the input to the next step.\n",
              "function _uploadFilesContinue(outputId) {\n",
              "  const outputElement = document.getElementById(outputId);\n",
              "  const steps = outputElement.steps;\n",
              "\n",
              "  const next = steps.next(outputElement.lastPromiseValue);\n",
              "  return Promise.resolve(next.value.promise).then((value) => {\n",
              "    // Cache the last promise value to make it available to the next\n",
              "    // step of the generator.\n",
              "    outputElement.lastPromiseValue = value;\n",
              "    return next.value.response;\n",
              "  });\n",
              "}\n",
              "\n",
              "/**\n",
              " * Generator function which is called between each async step of the upload\n",
              " * process.\n",
              " * @param {string} inputId Element ID of the input file picker element.\n",
              " * @param {string} outputId Element ID of the output display.\n",
              " * @return {!Iterable<!Object>} Iterable of next steps.\n",
              " */\n",
              "function* uploadFilesStep(inputId, outputId) {\n",
              "  const inputElement = document.getElementById(inputId);\n",
              "  inputElement.disabled = false;\n",
              "\n",
              "  const outputElement = document.getElementById(outputId);\n",
              "  outputElement.innerHTML = '';\n",
              "\n",
              "  const pickedPromise = new Promise((resolve) => {\n",
              "    inputElement.addEventListener('change', (e) => {\n",
              "      resolve(e.target.files);\n",
              "    });\n",
              "  });\n",
              "\n",
              "  const cancel = document.createElement('button');\n",
              "  inputElement.parentElement.appendChild(cancel);\n",
              "  cancel.textContent = 'Cancel upload';\n",
              "  const cancelPromise = new Promise((resolve) => {\n",
              "    cancel.onclick = () => {\n",
              "      resolve(null);\n",
              "    };\n",
              "  });\n",
              "\n",
              "  // Wait for the user to pick the files.\n",
              "  const files = yield {\n",
              "    promise: Promise.race([pickedPromise, cancelPromise]),\n",
              "    response: {\n",
              "      action: 'starting',\n",
              "    }\n",
              "  };\n",
              "\n",
              "  cancel.remove();\n",
              "\n",
              "  // Disable the input element since further picks are not allowed.\n",
              "  inputElement.disabled = true;\n",
              "\n",
              "  if (!files) {\n",
              "    return {\n",
              "      response: {\n",
              "        action: 'complete',\n",
              "      }\n",
              "    };\n",
              "  }\n",
              "\n",
              "  for (const file of files) {\n",
              "    const li = document.createElement('li');\n",
              "    li.append(span(file.name, {fontWeight: 'bold'}));\n",
              "    li.append(span(\n",
              "        `(${file.type || 'n/a'}) - ${file.size} bytes, ` +\n",
              "        `last modified: ${\n",
              "            file.lastModifiedDate ? file.lastModifiedDate.toLocaleDateString() :\n",
              "                                    'n/a'} - `));\n",
              "    const percent = span('0% done');\n",
              "    li.appendChild(percent);\n",
              "\n",
              "    outputElement.appendChild(li);\n",
              "\n",
              "    const fileDataPromise = new Promise((resolve) => {\n",
              "      const reader = new FileReader();\n",
              "      reader.onload = (e) => {\n",
              "        resolve(e.target.result);\n",
              "      };\n",
              "      reader.readAsArrayBuffer(file);\n",
              "    });\n",
              "    // Wait for the data to be ready.\n",
              "    let fileData = yield {\n",
              "      promise: fileDataPromise,\n",
              "      response: {\n",
              "        action: 'continue',\n",
              "      }\n",
              "    };\n",
              "\n",
              "    // Use a chunked sending to avoid message size limits. See b/62115660.\n",
              "    let position = 0;\n",
              "    do {\n",
              "      const length = Math.min(fileData.byteLength - position, MAX_PAYLOAD_SIZE);\n",
              "      const chunk = new Uint8Array(fileData, position, length);\n",
              "      position += length;\n",
              "\n",
              "      const base64 = btoa(String.fromCharCode.apply(null, chunk));\n",
              "      yield {\n",
              "        response: {\n",
              "          action: 'append',\n",
              "          file: file.name,\n",
              "          data: base64,\n",
              "        },\n",
              "      };\n",
              "\n",
              "      let percentDone = fileData.byteLength === 0 ?\n",
              "          100 :\n",
              "          Math.round((position / fileData.byteLength) * 100);\n",
              "      percent.textContent = `${percentDone}% done`;\n",
              "\n",
              "    } while (position < fileData.byteLength);\n",
              "  }\n",
              "\n",
              "  // All done.\n",
              "  yield {\n",
              "    response: {\n",
              "      action: 'complete',\n",
              "    }\n",
              "  };\n",
              "}\n",
              "\n",
              "scope.google = scope.google || {};\n",
              "scope.google.colab = scope.google.colab || {};\n",
              "scope.google.colab._files = {\n",
              "  _uploadFiles,\n",
              "  _uploadFilesContinue,\n",
              "};\n",
              "})(self);\n",
              "</script> "
            ]
          },
          "metadata": {}
        },
        {
          "output_type": "stream",
          "name": "stdout",
          "text": [
            "Saving apache-kafka-beginner-guide.pdf to apache-kafka-beginner-guide (1).pdf\n"
          ]
        }
      ]
    },
    {
      "cell_type": "markdown",
      "source": [
        "2. Import Libraries"
      ],
      "metadata": {
        "id": "5PioF1zWnGme"
      }
    },
    {
      "cell_type": "code",
      "source": [
        "from langchain.text_splitter import CharacterTextSplitter\n",
        "from langchain.vectorstores import FAISS\n",
        "from langchain.embeddings import HuggingFaceEmbeddings\n",
        "from langchain.llms import HuggingFacePipeline\n",
        "from langchain.chains import RetrievalQA\n",
        "from langchain.document_loaders import PyPDFLoader\n",
        "\n",
        "from transformers import pipeline\n"
      ],
      "metadata": {
        "id": "zSKtbuWxnAUo"
      },
      "execution_count": 2,
      "outputs": []
    },
    {
      "cell_type": "markdown",
      "source": [],
      "metadata": {
        "id": "Q0LAj2RZq6Vm"
      }
    },
    {
      "cell_type": "code",
      "source": [
        "pdf_path = \"/content/apache-kafka-beginner-guide.pdf\"   # after upload, file will be here\n",
        "loader = PyPDFLoader(pdf_path)\n",
        "documents = loader.load()"
      ],
      "metadata": {
        "id": "11NxJmnArJz7"
      },
      "execution_count": 3,
      "outputs": []
    },
    {
      "cell_type": "markdown",
      "source": [
        "3. Prepare Knowledge Base"
      ],
      "metadata": {
        "id": "NBkkHMA3oQOr"
      }
    },
    {
      "cell_type": "code",
      "source": [
        "# Example knowledge base\n",
        "docs = [\n",
        "    \"Java Spring Boot is a framework for building REST APIs and microservices.\",\n",
        "    \"Kafka is used for real-time data streaming and messaging.\",\n",
        "    \"AWS provides cloud-native services like S3, EC2, and Lambda.\"\n",
        "]\n",
        "\n",
        "# Split into chunks\n",
        "#splitter = CharacterTextSplitter(chunk_size=500, chunk_overlap=50)\n",
        "#documents = splitter.create_documents(doc)\n",
        "\n",
        "splitter = CharacterTextSplitter(chunk_size=500, chunk_overlap=50)\n",
        "docs = splitter.split_documents(documents)\n"
      ],
      "metadata": {
        "id": "EKJQ5Tl8oLXG"
      },
      "execution_count": 4,
      "outputs": []
    },
    {
      "cell_type": "markdown",
      "source": [
        "4. Create Vector Database (FAISS)"
      ],
      "metadata": {
        "id": "90ryWyKXob1r"
      }
    },
    {
      "cell_type": "code",
      "source": [
        "# Use HuggingFace embeddings (free)\n",
        "embeddings = HuggingFaceEmbeddings(model_name=\"sentence-transformers/all-MiniLM-L6-v2\")\n",
        "\n",
        "# Build FAISS vectorstore\n",
        "db = FAISS.from_documents(documents, embeddings)\n",
        "retriever = db.as_retriever()\n"
      ],
      "metadata": {
        "colab": {
          "base_uri": "https://localhost:8080/"
        },
        "id": "gUWNmNqEocZa",
        "outputId": "220438e1-47d6-43b5-bbd1-781ca36d5d3f"
      },
      "execution_count": 5,
      "outputs": [
        {
          "output_type": "stream",
          "name": "stderr",
          "text": [
            "/tmp/ipython-input-33198985.py:2: LangChainDeprecationWarning: The class `HuggingFaceEmbeddings` was deprecated in LangChain 0.2.2 and will be removed in 1.0. An updated version of the class exists in the :class:`~langchain-huggingface package and should be used instead. To use it run `pip install -U :class:`~langchain-huggingface` and import as `from :class:`~langchain_huggingface import HuggingFaceEmbeddings``.\n",
            "  embeddings = HuggingFaceEmbeddings(model_name=\"sentence-transformers/all-MiniLM-L6-v2\")\n",
            "/usr/local/lib/python3.12/dist-packages/huggingface_hub/utils/_auth.py:94: UserWarning: \n",
            "The secret `HF_TOKEN` does not exist in your Colab secrets.\n",
            "To authenticate with the Hugging Face Hub, create a token in your settings tab (https://huggingface.co/settings/tokens), set it as secret in your Google Colab and restart your session.\n",
            "You will be able to reuse this secret in all of your notebooks.\n",
            "Please note that authentication is recommended but still optional to access public models or datasets.\n",
            "  warnings.warn(\n"
          ]
        }
      ]
    },
    {
      "cell_type": "markdown",
      "source": [
        "5. Load a Free HuggingFace Model for Generation"
      ],
      "metadata": {
        "id": "7SLRhaQgo3gA"
      }
    },
    {
      "cell_type": "code",
      "source": [
        "# Use a small open-source model (free to run in Colab CPU)\n",
        "llm_pipeline = pipeline(\"text2text-generation\", model=\"google/flan-t5-small\")\n",
        "\n",
        "llm = HuggingFacePipeline(pipeline=llm_pipeline)\n"
      ],
      "metadata": {
        "colab": {
          "base_uri": "https://localhost:8080/"
        },
        "id": "0RBSKJI-o3z_",
        "outputId": "d9e5e9bb-48d8-4cc4-92aa-7e671dd10810"
      },
      "execution_count": 6,
      "outputs": [
        {
          "output_type": "stream",
          "name": "stderr",
          "text": [
            "Device set to use cpu\n",
            "/tmp/ipython-input-30783944.py:4: LangChainDeprecationWarning: The class `HuggingFacePipeline` was deprecated in LangChain 0.0.37 and will be removed in 1.0. An updated version of the class exists in the :class:`~langchain-huggingface package and should be used instead. To use it run `pip install -U :class:`~langchain-huggingface` and import as `from :class:`~langchain_huggingface import HuggingFacePipeline``.\n",
            "  llm = HuggingFacePipeline(pipeline=llm_pipeline)\n"
          ]
        }
      ]
    },
    {
      "cell_type": "markdown",
      "source": [
        "6. Build RAG Chain"
      ],
      "metadata": {
        "id": "O-tVDrI2pE8s"
      }
    },
    {
      "cell_type": "code",
      "source": [
        "qa = RetrievalQA.from_chain_type(\n",
        "    llm=llm,\n",
        "    retriever=retriever,\n",
        "    return_source_documents=True\n",
        ")\n"
      ],
      "metadata": {
        "id": "e8OGNxXspDw4"
      },
      "execution_count": 7,
      "outputs": []
    },
    {
      "cell_type": "markdown",
      "source": [
        "7. Ask Questions"
      ],
      "metadata": {
        "id": "_tJjKEozpN2Q"
      }
    },
    {
      "cell_type": "code",
      "source": [
        "query = \"What is Kafka used for?\"\n",
        "result = qa(query)\n",
        "\n",
        "print(\"Question:\", query)\n",
        "print(\"Answer:\", result[\"result\"])\n",
        "print(\"Source:\", result[\"source_documents\"][0].page_content)\n"
      ],
      "metadata": {
        "colab": {
          "base_uri": "https://localhost:8080/"
        },
        "id": "O--UeLuKpUr_",
        "outputId": "10d653b9-8a3c-46de-fbb4-2391bfc9c817"
      },
      "execution_count": 9,
      "outputs": [
        {
          "output_type": "stream",
          "name": "stdout",
          "text": [
            "Question: What is Kafka used for?\n",
            "Answer: Building applications and systems in need of real-time streaming\n",
            "Source: What is Apache Kafka?\n",
            " \n",
            " \n",
            " \n",
            "Apache Kafka is a publish-subscribe (pub-sub) message system that allows messages (also\n",
            " \n",
            "called records) to be sent between processes, applications, and servers. Simply said - Kafka\n",
            " \n",
            "stores streams of records.\n",
            " \n",
            " \n",
            "A record can include any kind of information. It could, for example, have information about an\n",
            " \n",
            "event that has happened on a website or could be a simple text message that triggers an event\n",
            " \n",
            "so another application may connect to the system and process or reprocess it.\n",
            " \n",
            " \n",
            "Unlike most messaging systems, the message queue in Kafka (also called a log) is persistent.\n",
            " \n",
            "The data sent is stored until a specified retention period has passed by. Noticeable for Apache\n",
            " \n",
            "Kafka is that records are not deleted when consumed.\n",
            " \n",
            " \n",
            "An Apache Kafka cluster consists of a chosen number of brokers/servers (also called nodes).\n",
            " \n",
            "Apache Kafka itself is storing streams of records. A record is data containing a key, value and\n",
            " \n",
            "timestamp sent from a producer. The producer publishes records on one or more topics. You\n",
            " \n",
            "can think of a topic as a category to where, applications can add, process and reprocess\n",
            " \n",
            "records (data). Consumers can then subscribe to one or more topics and process the stream of\n",
            " \n",
            "records.\n",
            " \n",
            " \n",
            "Kafka is often used when building applications and systems in need of real-time streaming.\n"
          ]
        }
      ]
    }
  ]
}